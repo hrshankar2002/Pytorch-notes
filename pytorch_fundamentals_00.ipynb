{
  "nbformat": 4,
  "nbformat_minor": 0,
  "metadata": {
    "colab": {
      "provenance": [],
      "authorship_tag": "ABX9TyPgvJDs4uIpUpV8mwL1pQmZ",
      "include_colab_link": true
    },
    "kernelspec": {
      "name": "python3",
      "display_name": "Python 3"
    },
    "language_info": {
      "name": "python"
    }
  },
  "cells": [
    {
      "cell_type": "markdown",
      "metadata": {
        "id": "view-in-github",
        "colab_type": "text"
      },
      "source": [
        "<a href=\"https://colab.research.google.com/github/hrshankar2002/Pytorch-notes/blob/main/pytorch_fundamentals_00.ipynb\" target=\"_parent\"><img src=\"https://colab.research.google.com/assets/colab-badge.svg\" alt=\"Open In Colab\"/></a>"
      ]
    },
    {
      "cell_type": "markdown",
      "source": [
        "**Tensors**"
      ],
      "metadata": {
        "id": "3xfZOlaF16mF"
      }
    },
    {
      "cell_type": "markdown",
      "source": [
        "<img src = \"https://editor.analyticsvidhya.com/uploads/64798tensor.png\">"
      ],
      "metadata": {
        "id": "VyKsLG7s1v1l"
      }
    },
    {
      "cell_type": "markdown",
      "source": [
        "**Tensor Visualization of shape (4,1,2,3)**"
      ],
      "metadata": {
        "id": "vSocfvG46qz7"
      }
    },
    {
      "cell_type": "markdown",
      "source": [
        "<ul>\n",
        "  <li>The first dimension (4) represents the batch size.</li>\n",
        "  <li>The second dimension (1) represents the number of channels.\n",
        "</li>\n",
        "  <li>The third dimension (2) represents the height.\n",
        "</li>\n",
        "<li>The fourth dimension (3) represents the width.\n",
        "</li>\n",
        "</ul>"
      ],
      "metadata": {
        "id": "zw-7CbDC7px0"
      }
    },
    {
      "cell_type": "markdown",
      "source": [
        "<pre>[\n",
        "  [  # Batch 1\n",
        "    [  # Channel 1\n",
        "      [1, 2, 3],  # Row 1\n",
        "      [4, 5, 6]   # Row 2\n",
        "    ]\n",
        "  ],\n",
        "  [  # Batch 2\n",
        "    [  # Channel 1\n",
        "      [7, 8, 9],   # Row 1\n",
        "      [10, 11, 12]  # Row 2\n",
        "    ]\n",
        "  ],\n",
        "  [  # Batch 3\n",
        "    [  # Channel 1\n",
        "      [13, 14, 15],   # Row 1\n",
        "      [16, 17, 18]    # Row 2\n",
        "    ]\n",
        "  ],\n",
        "  [  # Batch 4\n",
        "    [  # Channel 1\n",
        "      [19, 20, 21],   # Row 1\n",
        "      [22, 23, 24]    # Row 2\n",
        "    ]\n",
        "  ]\n",
        "]</pre>\n"
      ],
      "metadata": {
        "id": "vkGsbePh6znc"
      }
    },
    {
      "cell_type": "code",
      "source": [
        "import torch\n",
        "import numpy as np\n",
        "import pandas as pd\n",
        "import matplotlib.pyplot as plt\n",
        "print(torch.__version__)"
      ],
      "metadata": {
        "colab": {
          "base_uri": "https://localhost:8080/"
        },
        "id": "bW4mQctT_YJ6",
        "outputId": "a0336caf-41f8-418b-83f9-b61725209265"
      },
      "execution_count": null,
      "outputs": [
        {
          "output_type": "stream",
          "name": "stdout",
          "text": [
            "2.1.0+cu121\n"
          ]
        }
      ]
    },
    {
      "cell_type": "code",
      "source": [
        "scalar = torch.tensor(7)\n",
        "scalar"
      ],
      "metadata": {
        "colab": {
          "base_uri": "https://localhost:8080/"
        },
        "id": "WrJEjkCc_mms",
        "outputId": "a3431450-7b5d-457f-f8cf-023e94c66f1e"
      },
      "execution_count": null,
      "outputs": [
        {
          "output_type": "execute_result",
          "data": {
            "text/plain": [
              "tensor(7)"
            ]
          },
          "metadata": {},
          "execution_count": 3
        }
      ]
    },
    {
      "cell_type": "code",
      "source": [
        "scalar.ndim"
      ],
      "metadata": {
        "colab": {
          "base_uri": "https://localhost:8080/"
        },
        "id": "30PeWaIUBb-C",
        "outputId": "3fa4441e-1c20-491e-a2fa-16e7368d180f"
      },
      "execution_count": null,
      "outputs": [
        {
          "output_type": "execute_result",
          "data": {
            "text/plain": [
              "0"
            ]
          },
          "metadata": {},
          "execution_count": 4
        }
      ]
    },
    {
      "cell_type": "code",
      "source": [
        "scalar.item()"
      ],
      "metadata": {
        "colab": {
          "base_uri": "https://localhost:8080/"
        },
        "id": "VYo1oyZBBu-3",
        "outputId": "95a4eaa5-71cf-43aa-e073-f522c965ff9d"
      },
      "execution_count": null,
      "outputs": [
        {
          "output_type": "execute_result",
          "data": {
            "text/plain": [
              "7"
            ]
          },
          "metadata": {},
          "execution_count": 5
        }
      ]
    },
    {
      "cell_type": "code",
      "source": [
        "vector = torch.tensor([7, 7])\n",
        "vector"
      ],
      "metadata": {
        "colab": {
          "base_uri": "https://localhost:8080/"
        },
        "id": "VjwWOjDBBxl7",
        "outputId": "97bdef82-b524-419b-b28a-8865855157d8"
      },
      "execution_count": null,
      "outputs": [
        {
          "output_type": "execute_result",
          "data": {
            "text/plain": [
              "tensor([7, 7])"
            ]
          },
          "metadata": {},
          "execution_count": 6
        }
      ]
    },
    {
      "cell_type": "code",
      "source": [
        "vector.ndim"
      ],
      "metadata": {
        "colab": {
          "base_uri": "https://localhost:8080/"
        },
        "id": "-H-EQC82CPEn",
        "outputId": "f379b480-011f-489b-e8e2-a34d557969aa"
      },
      "execution_count": null,
      "outputs": [
        {
          "output_type": "execute_result",
          "data": {
            "text/plain": [
              "1"
            ]
          },
          "metadata": {},
          "execution_count": 7
        }
      ]
    },
    {
      "cell_type": "code",
      "source": [
        "vector[1]"
      ],
      "metadata": {
        "colab": {
          "base_uri": "https://localhost:8080/"
        },
        "id": "tVEM3DSCCQqX",
        "outputId": "1e0dcfe4-ff65-46f2-c6be-eb44a75efe70"
      },
      "execution_count": null,
      "outputs": [
        {
          "output_type": "execute_result",
          "data": {
            "text/plain": [
              "tensor(7)"
            ]
          },
          "metadata": {},
          "execution_count": 8
        }
      ]
    },
    {
      "cell_type": "code",
      "source": [
        "MATRIX = torch.tensor([[7, 8],\n",
        "                       [3, 4]])\n",
        "MATRIX"
      ],
      "metadata": {
        "colab": {
          "base_uri": "https://localhost:8080/"
        },
        "id": "174uZ9aCCS2X",
        "outputId": "85a5e1e9-1361-454d-8082-58ae8ed66ae5"
      },
      "execution_count": null,
      "outputs": [
        {
          "output_type": "execute_result",
          "data": {
            "text/plain": [
              "tensor([[7, 8],\n",
              "        [3, 4]])"
            ]
          },
          "metadata": {},
          "execution_count": 9
        }
      ]
    },
    {
      "cell_type": "code",
      "source": [
        "MATRIX.ndim"
      ],
      "metadata": {
        "colab": {
          "base_uri": "https://localhost:8080/"
        },
        "id": "JyKXontDCja-",
        "outputId": "795a7ec2-ae5a-4691-a62d-3047922ea7f3"
      },
      "execution_count": null,
      "outputs": [
        {
          "output_type": "execute_result",
          "data": {
            "text/plain": [
              "2"
            ]
          },
          "metadata": {},
          "execution_count": 10
        }
      ]
    },
    {
      "cell_type": "code",
      "source": [
        "MATRIX[0][0]"
      ],
      "metadata": {
        "colab": {
          "base_uri": "https://localhost:8080/"
        },
        "id": "l97mfE1tCk8U",
        "outputId": "fa1d0f6a-99a9-4fe4-890b-fee2a4bfca7c"
      },
      "execution_count": null,
      "outputs": [
        {
          "output_type": "execute_result",
          "data": {
            "text/plain": [
              "tensor(7)"
            ]
          },
          "metadata": {},
          "execution_count": 11
        }
      ]
    },
    {
      "cell_type": "code",
      "source": [
        "MATRIX.shape"
      ],
      "metadata": {
        "colab": {
          "base_uri": "https://localhost:8080/"
        },
        "id": "r8abjY5SCnWr",
        "outputId": "a52a4f29-5da8-4517-f156-56b8592dcea8"
      },
      "execution_count": null,
      "outputs": [
        {
          "output_type": "execute_result",
          "data": {
            "text/plain": [
              "torch.Size([2, 2])"
            ]
          },
          "metadata": {},
          "execution_count": 12
        }
      ]
    },
    {
      "cell_type": "code",
      "source": [
        "TENSOR = torch.tensor([[[1,2,3], [3,4,5], [4,5,6]]])\n",
        "TENSOR"
      ],
      "metadata": {
        "colab": {
          "base_uri": "https://localhost:8080/"
        },
        "id": "7uVEDJv8Cy8a",
        "outputId": "b8a50532-92ce-487b-c75f-0d499128af77"
      },
      "execution_count": null,
      "outputs": [
        {
          "output_type": "execute_result",
          "data": {
            "text/plain": [
              "tensor([[[1, 2, 3],\n",
              "         [3, 4, 5],\n",
              "         [4, 5, 6]]])"
            ]
          },
          "metadata": {},
          "execution_count": 13
        }
      ]
    },
    {
      "cell_type": "code",
      "source": [
        "TENSOR.ndim"
      ],
      "metadata": {
        "colab": {
          "base_uri": "https://localhost:8080/"
        },
        "id": "4UnteN4fEGN9",
        "outputId": "7508b128-2a5f-430f-97d2-aec89ce2adec"
      },
      "execution_count": null,
      "outputs": [
        {
          "output_type": "execute_result",
          "data": {
            "text/plain": [
              "3"
            ]
          },
          "metadata": {},
          "execution_count": 14
        }
      ]
    },
    {
      "cell_type": "code",
      "source": [
        "TENSOR.shape"
      ],
      "metadata": {
        "colab": {
          "base_uri": "https://localhost:8080/"
        },
        "id": "db69Ff71EIlG",
        "outputId": "c4b45a4d-4a8f-40bb-fd79-ad511d0b3f9e"
      },
      "execution_count": null,
      "outputs": [
        {
          "output_type": "execute_result",
          "data": {
            "text/plain": [
              "torch.Size([1, 3, 3])"
            ]
          },
          "metadata": {},
          "execution_count": 15
        }
      ]
    },
    {
      "cell_type": "code",
      "source": [
        "TENSOR[0][0][0]"
      ],
      "metadata": {
        "colab": {
          "base_uri": "https://localhost:8080/"
        },
        "id": "W8XTwgJ0EOsa",
        "outputId": "668b3400-7a18-4b88-fa1f-72e4fd18cd47"
      },
      "execution_count": null,
      "outputs": [
        {
          "output_type": "execute_result",
          "data": {
            "text/plain": [
              "tensor(1)"
            ]
          },
          "metadata": {},
          "execution_count": 16
        }
      ]
    },
    {
      "cell_type": "code",
      "source": [
        "random_tensor = torch.rand(3, 4)\n",
        "random_tensor"
      ],
      "metadata": {
        "colab": {
          "base_uri": "https://localhost:8080/"
        },
        "id": "QOwInBzLEXoX",
        "outputId": "11e15280-017e-4471-a7c5-dd701e3d4fe7"
      },
      "execution_count": null,
      "outputs": [
        {
          "output_type": "execute_result",
          "data": {
            "text/plain": [
              "tensor([[0.7050, 0.0469, 0.1979, 0.8017],\n",
              "        [0.9765, 0.7703, 0.8947, 0.4880],\n",
              "        [0.8319, 0.7132, 0.2405, 0.9959]])"
            ]
          },
          "metadata": {},
          "execution_count": 17
        }
      ]
    },
    {
      "cell_type": "code",
      "source": [
        "random_image_size_tensor = torch.rand(size = (224, 224, 3))\n",
        "random_image_size_tensor.shape, random_image_size_tensor.ndim"
      ],
      "metadata": {
        "colab": {
          "base_uri": "https://localhost:8080/"
        },
        "id": "GUJBu5JRcP5P",
        "outputId": "0b8b664b-650d-4ce3-c4ee-c8eb4544d2a4"
      },
      "execution_count": null,
      "outputs": [
        {
          "output_type": "execute_result",
          "data": {
            "text/plain": [
              "(torch.Size([224, 224, 3]), 3)"
            ]
          },
          "metadata": {},
          "execution_count": 18
        }
      ]
    },
    {
      "cell_type": "code",
      "source": [
        "zeros = torch.zeros(3, 4)\n",
        "zeros"
      ],
      "metadata": {
        "colab": {
          "base_uri": "https://localhost:8080/"
        },
        "id": "gHseyJOMd8b7",
        "outputId": "1af7718a-45d5-4b47-93a8-a7b8fd055fbe"
      },
      "execution_count": null,
      "outputs": [
        {
          "output_type": "execute_result",
          "data": {
            "text/plain": [
              "tensor([[0., 0., 0., 0.],\n",
              "        [0., 0., 0., 0.],\n",
              "        [0., 0., 0., 0.]])"
            ]
          },
          "metadata": {},
          "execution_count": 19
        }
      ]
    },
    {
      "cell_type": "code",
      "source": [
        "ones = torch.ones(3, 4)\n",
        "ones"
      ],
      "metadata": {
        "colab": {
          "base_uri": "https://localhost:8080/"
        },
        "id": "qkYOZF_KivKH",
        "outputId": "9aebd2e9-e9b1-4d47-e155-c570ca99bf28"
      },
      "execution_count": null,
      "outputs": [
        {
          "output_type": "execute_result",
          "data": {
            "text/plain": [
              "tensor([[1., 1., 1., 1.],\n",
              "        [1., 1., 1., 1.],\n",
              "        [1., 1., 1., 1.]])"
            ]
          },
          "metadata": {},
          "execution_count": 20
        }
      ]
    },
    {
      "cell_type": "code",
      "source": [
        "net = random_tensor*zeros\n",
        "net"
      ],
      "metadata": {
        "colab": {
          "base_uri": "https://localhost:8080/"
        },
        "id": "RZFo1o4ain8s",
        "outputId": "b3e2114e-b828-464d-a09c-b17f2de60a5f"
      },
      "execution_count": null,
      "outputs": [
        {
          "output_type": "execute_result",
          "data": {
            "text/plain": [
              "tensor([[0., 0., 0., 0.],\n",
              "        [0., 0., 0., 0.],\n",
              "        [0., 0., 0., 0.]])"
            ]
          },
          "metadata": {},
          "execution_count": 21
        }
      ]
    },
    {
      "cell_type": "code",
      "source": [
        "net = random_tensor*ones\n",
        "net"
      ],
      "metadata": {
        "colab": {
          "base_uri": "https://localhost:8080/"
        },
        "id": "7C7WgWwiispn",
        "outputId": "a6a24808-e46e-47ac-a0b7-1be82b40964b"
      },
      "execution_count": null,
      "outputs": [
        {
          "output_type": "execute_result",
          "data": {
            "text/plain": [
              "tensor([[0.7050, 0.0469, 0.1979, 0.8017],\n",
              "        [0.9765, 0.7703, 0.8947, 0.4880],\n",
              "        [0.8319, 0.7132, 0.2405, 0.9959]])"
            ]
          },
          "metadata": {},
          "execution_count": 22
        }
      ]
    },
    {
      "cell_type": "code",
      "source": [
        "ones.dtype"
      ],
      "metadata": {
        "colab": {
          "base_uri": "https://localhost:8080/"
        },
        "id": "uEupHBfii1i7",
        "outputId": "92a614d6-5d01-47e5-96a6-570e8313b05e"
      },
      "execution_count": null,
      "outputs": [
        {
          "output_type": "execute_result",
          "data": {
            "text/plain": [
              "torch.float32"
            ]
          },
          "metadata": {},
          "execution_count": 23
        }
      ]
    },
    {
      "cell_type": "code",
      "source": [
        "one_to_ten = torch.arange(start=1, end=11, step=1)\n",
        "one_to_ten"
      ],
      "metadata": {
        "colab": {
          "base_uri": "https://localhost:8080/"
        },
        "id": "MPxNsgWSvvGu",
        "outputId": "de6d9a06-1b8c-4a75-c2fe-72fa70d7f676"
      },
      "execution_count": null,
      "outputs": [
        {
          "output_type": "execute_result",
          "data": {
            "text/plain": [
              "tensor([ 1,  2,  3,  4,  5,  6,  7,  8,  9, 10])"
            ]
          },
          "metadata": {},
          "execution_count": 24
        }
      ]
    },
    {
      "cell_type": "code",
      "source": [
        "ten_zeros = torch.zeros_like(input=one_to_ten)\n",
        "ten_zeros"
      ],
      "metadata": {
        "colab": {
          "base_uri": "https://localhost:8080/"
        },
        "id": "W1fAG2EzzfmQ",
        "outputId": "c28dd53c-2831-479b-c65c-890028c8b252"
      },
      "execution_count": null,
      "outputs": [
        {
          "output_type": "execute_result",
          "data": {
            "text/plain": [
              "tensor([0, 0, 0, 0, 0, 0, 0, 0, 0, 0])"
            ]
          },
          "metadata": {},
          "execution_count": 25
        }
      ]
    },
    {
      "cell_type": "code",
      "source": [
        "float_32_tensor = torch.tensor([3.0, 6.0, 9.0],\n",
        "                               dtype=None,\n",
        "                               device=\"cpu\",\n",
        "                               requires_grad=False\n",
        "                               )\n",
        "float_32_tensor.dtype"
      ],
      "metadata": {
        "colab": {
          "base_uri": "https://localhost:8080/"
        },
        "id": "0TI3bBUs0HOC",
        "outputId": "9c06f754-df75-42df-cf0a-0d2e08055057"
      },
      "execution_count": null,
      "outputs": [
        {
          "output_type": "execute_result",
          "data": {
            "text/plain": [
              "torch.float32"
            ]
          },
          "metadata": {},
          "execution_count": 26
        }
      ]
    },
    {
      "cell_type": "code",
      "source": [
        "float_16_tensor = float_32_tensor.type(torch.float16)\n",
        "float_16_tensor"
      ],
      "metadata": {
        "colab": {
          "base_uri": "https://localhost:8080/"
        },
        "id": "zOGPenn80v0w",
        "outputId": "4c9f65dc-75fa-46ed-ae4d-98f415ba5276"
      },
      "execution_count": null,
      "outputs": [
        {
          "output_type": "execute_result",
          "data": {
            "text/plain": [
              "tensor([3., 6., 9.], dtype=torch.float16)"
            ]
          },
          "metadata": {},
          "execution_count": 27
        }
      ]
    },
    {
      "cell_type": "code",
      "source": [
        "(float_16_tensor * float_32_tensor).dtype"
      ],
      "metadata": {
        "colab": {
          "base_uri": "https://localhost:8080/"
        },
        "id": "l1LEUDK22J8k",
        "outputId": "046e5d49-9847-4011-d576-0a681bc8b27b"
      },
      "execution_count": null,
      "outputs": [
        {
          "output_type": "execute_result",
          "data": {
            "text/plain": [
              "torch.float32"
            ]
          },
          "metadata": {},
          "execution_count": 28
        }
      ]
    },
    {
      "cell_type": "code",
      "source": [
        "int_32_tensor = torch.tensor([3, 6, 9],\n",
        "                               dtype=torch.int32,\n",
        "                               device=\"cpu\",\n",
        "                               requires_grad=False\n",
        "                               )\n",
        "int_32_tensor.dtype"
      ],
      "metadata": {
        "colab": {
          "base_uri": "https://localhost:8080/"
        },
        "id": "RoB7HU_a2qVS",
        "outputId": "af6b8bf9-fc08-4e7c-bb65-3f34217f3d5a"
      },
      "execution_count": null,
      "outputs": [
        {
          "output_type": "execute_result",
          "data": {
            "text/plain": [
              "torch.int32"
            ]
          },
          "metadata": {},
          "execution_count": 29
        }
      ]
    },
    {
      "cell_type": "code",
      "source": [
        "float_32_tensor*int_32_tensor"
      ],
      "metadata": {
        "colab": {
          "base_uri": "https://localhost:8080/"
        },
        "id": "KsaoAgwL3D-z",
        "outputId": "476ec23e-49e8-4d73-cdfc-9c0d35f31c46"
      },
      "execution_count": null,
      "outputs": [
        {
          "output_type": "execute_result",
          "data": {
            "text/plain": [
              "tensor([ 9., 36., 81.])"
            ]
          },
          "metadata": {},
          "execution_count": 30
        }
      ]
    },
    {
      "cell_type": "code",
      "source": [
        "long_32_tensor = torch.tensor([3, 6, 9],\n",
        "                               dtype=torch.long,\n",
        "                               device=\"cpu\",\n",
        "                               requires_grad=False\n",
        "                               )\n",
        "int_32_tensor.dtype"
      ],
      "metadata": {
        "colab": {
          "base_uri": "https://localhost:8080/"
        },
        "id": "2cVnESnN3OWp",
        "outputId": "080afe9a-321a-4c19-e1e0-1bc9956dbd03"
      },
      "execution_count": null,
      "outputs": [
        {
          "output_type": "execute_result",
          "data": {
            "text/plain": [
              "torch.int32"
            ]
          },
          "metadata": {},
          "execution_count": 31
        }
      ]
    },
    {
      "cell_type": "code",
      "source": [
        "float_32_tensor * long_32_tensor"
      ],
      "metadata": {
        "colab": {
          "base_uri": "https://localhost:8080/"
        },
        "id": "wERuqgZi3UsD",
        "outputId": "475c5ea6-260a-4de9-b11b-b99f98741a45"
      },
      "execution_count": null,
      "outputs": [
        {
          "output_type": "execute_result",
          "data": {
            "text/plain": [
              "tensor([ 9., 36., 81.])"
            ]
          },
          "metadata": {},
          "execution_count": 32
        }
      ]
    },
    {
      "cell_type": "code",
      "source": [
        "some_tensor = torch.rand(3, 4)\n",
        "print(some_tensor.dtype, some_tensor.device, some_tensor.shape, sep=\"\\n\")"
      ],
      "metadata": {
        "colab": {
          "base_uri": "https://localhost:8080/"
        },
        "id": "2zxlHvqI5Ao7",
        "outputId": "ead08c82-1c4d-418c-95cb-31750e90fba3"
      },
      "execution_count": null,
      "outputs": [
        {
          "output_type": "stream",
          "name": "stdout",
          "text": [
            "torch.float32\n",
            "cpu\n",
            "torch.Size([3, 4])\n"
          ]
        }
      ]
    },
    {
      "cell_type": "code",
      "source": [
        "tensor = torch.tensor([1,2,3])\n",
        "tensor+10"
      ],
      "metadata": {
        "colab": {
          "base_uri": "https://localhost:8080/"
        },
        "id": "Rl4813zdLOpG",
        "outputId": "c18465ca-0d59-4266-b2be-5460dcb127b5"
      },
      "execution_count": null,
      "outputs": [
        {
          "output_type": "execute_result",
          "data": {
            "text/plain": [
              "tensor([11, 12, 13])"
            ]
          },
          "metadata": {},
          "execution_count": 34
        }
      ]
    },
    {
      "cell_type": "code",
      "source": [
        "tensor*10"
      ],
      "metadata": {
        "colab": {
          "base_uri": "https://localhost:8080/"
        },
        "id": "p0OI4WcGLXAb",
        "outputId": "08ae4c1c-e671-4c86-ad9e-9327e6444b00"
      },
      "execution_count": null,
      "outputs": [
        {
          "output_type": "execute_result",
          "data": {
            "text/plain": [
              "tensor([10, 20, 30])"
            ]
          },
          "metadata": {},
          "execution_count": 35
        }
      ]
    },
    {
      "cell_type": "code",
      "source": [
        "tensor-10"
      ],
      "metadata": {
        "colab": {
          "base_uri": "https://localhost:8080/"
        },
        "id": "9B7JeqNDLaxy",
        "outputId": "fce15ca6-5192-4720-83fb-350127f829ee"
      },
      "execution_count": null,
      "outputs": [
        {
          "output_type": "execute_result",
          "data": {
            "text/plain": [
              "tensor([-9, -8, -7])"
            ]
          },
          "metadata": {},
          "execution_count": 36
        }
      ]
    },
    {
      "cell_type": "code",
      "source": [
        "torch.mul(tensor, 10)"
      ],
      "metadata": {
        "colab": {
          "base_uri": "https://localhost:8080/"
        },
        "id": "OIlKRlJILq4N",
        "outputId": "91373306-90ba-4a53-8b4f-8cc7dcee8931"
      },
      "execution_count": null,
      "outputs": [
        {
          "output_type": "execute_result",
          "data": {
            "text/plain": [
              "tensor([10, 20, 30])"
            ]
          },
          "metadata": {},
          "execution_count": 37
        }
      ]
    },
    {
      "cell_type": "code",
      "source": [
        "torch.add(tensor, 10)"
      ],
      "metadata": {
        "colab": {
          "base_uri": "https://localhost:8080/"
        },
        "id": "hF4h1jCKLwOd",
        "outputId": "79a2f53a-c4a6-41b9-f39c-638b5f2bbf53"
      },
      "execution_count": null,
      "outputs": [
        {
          "output_type": "execute_result",
          "data": {
            "text/plain": [
              "tensor([11, 12, 13])"
            ]
          },
          "metadata": {},
          "execution_count": 38
        }
      ]
    },
    {
      "cell_type": "code",
      "source": [
        "tensor*tensor"
      ],
      "metadata": {
        "colab": {
          "base_uri": "https://localhost:8080/"
        },
        "id": "8VNTLqi7L2S5",
        "outputId": "aef3c9d9-f682-421a-e0fa-cb8f128cd6da"
      },
      "execution_count": null,
      "outputs": [
        {
          "output_type": "execute_result",
          "data": {
            "text/plain": [
              "tensor([1, 4, 9])"
            ]
          },
          "metadata": {},
          "execution_count": 39
        }
      ]
    },
    {
      "cell_type": "code",
      "source": [
        "%%time\n",
        "torch.matmul(tensor, tensor)"
      ],
      "metadata": {
        "colab": {
          "base_uri": "https://localhost:8080/"
        },
        "id": "O-cmeGItMWU8",
        "outputId": "4b1e5831-78b0-4818-8d2b-1f403c035006"
      },
      "execution_count": null,
      "outputs": [
        {
          "output_type": "stream",
          "name": "stdout",
          "text": [
            "CPU times: user 249 µs, sys: 49 µs, total: 298 µs\n",
            "Wall time: 1.92 ms\n"
          ]
        },
        {
          "output_type": "execute_result",
          "data": {
            "text/plain": [
              "tensor(14)"
            ]
          },
          "metadata": {},
          "execution_count": 40
        }
      ]
    },
    {
      "cell_type": "code",
      "source": [
        "%%time\n",
        "value = 0\n",
        "for i in range(len(tensor)):\n",
        "    value += tensor[i]*tensor[i]\n",
        "value"
      ],
      "metadata": {
        "colab": {
          "base_uri": "https://localhost:8080/"
        },
        "id": "MHPjSdpEMZZ9",
        "outputId": "546ad40d-e3b3-4062-c617-b5cc77c73383"
      },
      "execution_count": null,
      "outputs": [
        {
          "output_type": "stream",
          "name": "stdout",
          "text": [
            "CPU times: user 253 µs, sys: 51 µs, total: 304 µs\n",
            "Wall time: 342 µs\n"
          ]
        },
        {
          "output_type": "execute_result",
          "data": {
            "text/plain": [
              "tensor(14)"
            ]
          },
          "metadata": {},
          "execution_count": 41
        }
      ]
    },
    {
      "cell_type": "code",
      "source": [
        "%%time\n",
        "tensor @ tensor"
      ],
      "metadata": {
        "colab": {
          "base_uri": "https://localhost:8080/"
        },
        "id": "8UIdDiwxMyfF",
        "outputId": "edcc23d9-169e-4e45-cf56-d337cffd4af7"
      },
      "execution_count": null,
      "outputs": [
        {
          "output_type": "stream",
          "name": "stdout",
          "text": [
            "CPU times: user 68 µs, sys: 14 µs, total: 82 µs\n",
            "Wall time: 84.6 µs\n"
          ]
        },
        {
          "output_type": "execute_result",
          "data": {
            "text/plain": [
              "tensor(14)"
            ]
          },
          "metadata": {},
          "execution_count": 42
        }
      ]
    },
    {
      "cell_type": "code",
      "source": [
        "torch.matmul(torch.rand(3,2), torch.rand(2,3)).shape"
      ],
      "metadata": {
        "colab": {
          "base_uri": "https://localhost:8080/"
        },
        "id": "RMI-zWg-NvjZ",
        "outputId": "a3799032-2310-4d97-c794-dd2571cb2059"
      },
      "execution_count": null,
      "outputs": [
        {
          "output_type": "execute_result",
          "data": {
            "text/plain": [
              "torch.Size([3, 3])"
            ]
          },
          "metadata": {},
          "execution_count": 43
        }
      ]
    },
    {
      "cell_type": "code",
      "source": [
        "tensor_A = torch.tensor([ [1,2],\n",
        "                          [4,5],\n",
        "                          [2,3]\n",
        "                         ])\n",
        "tensor_B = torch.tensor([ [1,2],\n",
        "                          [3,4],\n",
        "                          [5,6]\n",
        "                         ])\n",
        "torch.mm(tensor_A, tensor_B.T).shape # transpose"
      ],
      "metadata": {
        "colab": {
          "base_uri": "https://localhost:8080/"
        },
        "id": "0H9XkFVtOHMa",
        "outputId": "b2ad3b98-78bd-4cdb-8238-f38f5423972e"
      },
      "execution_count": null,
      "outputs": [
        {
          "output_type": "execute_result",
          "data": {
            "text/plain": [
              "torch.Size([3, 3])"
            ]
          },
          "metadata": {},
          "execution_count": 44
        }
      ]
    },
    {
      "cell_type": "code",
      "source": [
        "x = torch.arange(0,100,10)\n",
        "x, x.dtype"
      ],
      "metadata": {
        "colab": {
          "base_uri": "https://localhost:8080/"
        },
        "id": "hnaCc29CZk6l",
        "outputId": "4796dbdf-eb1f-4fa2-81dd-dbebd08b2693"
      },
      "execution_count": null,
      "outputs": [
        {
          "output_type": "execute_result",
          "data": {
            "text/plain": [
              "(tensor([ 0, 10, 20, 30, 40, 50, 60, 70, 80, 90]), torch.int64)"
            ]
          },
          "metadata": {},
          "execution_count": 45
        }
      ]
    },
    {
      "cell_type": "code",
      "source": [
        "torch.min(x), x.min()"
      ],
      "metadata": {
        "colab": {
          "base_uri": "https://localhost:8080/"
        },
        "id": "YRNFvGFNF2Lh",
        "outputId": "2ca2d705-acd2-48f6-c237-7972a53d03fa"
      },
      "execution_count": null,
      "outputs": [
        {
          "output_type": "execute_result",
          "data": {
            "text/plain": [
              "(tensor(0), tensor(0))"
            ]
          },
          "metadata": {},
          "execution_count": 46
        }
      ]
    },
    {
      "cell_type": "code",
      "source": [
        "torch.max(x), x.max()"
      ],
      "metadata": {
        "colab": {
          "base_uri": "https://localhost:8080/"
        },
        "id": "fitQodfPF6AL",
        "outputId": "f004b48f-d3f8-4165-c470-ff5a3c7d51c6"
      },
      "execution_count": null,
      "outputs": [
        {
          "output_type": "execute_result",
          "data": {
            "text/plain": [
              "(tensor(90), tensor(90))"
            ]
          },
          "metadata": {},
          "execution_count": 47
        }
      ]
    },
    {
      "cell_type": "code",
      "source": [
        "torch.mean(x.type(torch.float32)),  x.type(torch.float32).mean() # mean not working for int64 (default) hence type converted to float32"
      ],
      "metadata": {
        "colab": {
          "base_uri": "https://localhost:8080/"
        },
        "id": "bnLjb096F8D9",
        "outputId": "339dac91-90d7-4250-9ab1-a2d6394c6a57"
      },
      "execution_count": null,
      "outputs": [
        {
          "output_type": "execute_result",
          "data": {
            "text/plain": [
              "(tensor(45.), tensor(45.))"
            ]
          },
          "metadata": {},
          "execution_count": 48
        }
      ]
    },
    {
      "cell_type": "code",
      "source": [
        "torch.sum(x), x.sum()"
      ],
      "metadata": {
        "colab": {
          "base_uri": "https://localhost:8080/"
        },
        "id": "7OJ2mJaUF_fm",
        "outputId": "62116ca0-cfdf-4550-992b-afd04951a664"
      },
      "execution_count": null,
      "outputs": [
        {
          "output_type": "execute_result",
          "data": {
            "text/plain": [
              "(tensor(450), tensor(450))"
            ]
          },
          "metadata": {},
          "execution_count": 49
        }
      ]
    },
    {
      "cell_type": "code",
      "source": [
        "x.argmin(), x.argmax()"
      ],
      "metadata": {
        "colab": {
          "base_uri": "https://localhost:8080/"
        },
        "id": "XvcikBEPG9Om",
        "outputId": "5f5abfed-c56e-4cb3-ebc7-a232b89179d2"
      },
      "execution_count": null,
      "outputs": [
        {
          "output_type": "execute_result",
          "data": {
            "text/plain": [
              "(tensor(0), tensor(9))"
            ]
          },
          "metadata": {},
          "execution_count": 50
        }
      ]
    },
    {
      "cell_type": "markdown",
      "source": [
        "***Reshaping a tensor***"
      ],
      "metadata": {
        "id": "DK3M2hZ4QTYU"
      }
    },
    {
      "cell_type": "code",
      "source": [
        "x = torch.arange(1., 10.)\n",
        "x_reshaped = x.reshape(1,9)\n",
        "x, x_reshaped"
      ],
      "metadata": {
        "colab": {
          "base_uri": "https://localhost:8080/"
        },
        "id": "-V4vF-bzHZXu",
        "outputId": "5f7406db-2778-4081-ce7f-c1ba5aba155f"
      },
      "execution_count": null,
      "outputs": [
        {
          "output_type": "execute_result",
          "data": {
            "text/plain": [
              "(tensor([1., 2., 3., 4., 5., 6., 7., 8., 9.]),\n",
              " tensor([[1., 2., 3., 4., 5., 6., 7., 8., 9.]]))"
            ]
          },
          "metadata": {},
          "execution_count": 51
        }
      ]
    },
    {
      "cell_type": "code",
      "source": [
        "z = x.view(1, 9)\n",
        "x, z"
      ],
      "metadata": {
        "colab": {
          "base_uri": "https://localhost:8080/"
        },
        "id": "iU5HIf3NKQXE",
        "outputId": "f8a33fc2-3821-4122-d6ee-953d50207a14"
      },
      "execution_count": null,
      "outputs": [
        {
          "output_type": "execute_result",
          "data": {
            "text/plain": [
              "(tensor([1., 2., 3., 4., 5., 6., 7., 8., 9.]),\n",
              " tensor([[1., 2., 3., 4., 5., 6., 7., 8., 9.]]))"
            ]
          },
          "metadata": {},
          "execution_count": 52
        }
      ]
    },
    {
      "cell_type": "code",
      "source": [
        "# x and z share same memory\n",
        "z[:, 0]=10\n",
        "x, z"
      ],
      "metadata": {
        "colab": {
          "base_uri": "https://localhost:8080/"
        },
        "id": "F0dTwW-gLETM",
        "outputId": "1abad0ed-7c10-419d-e7f8-87f12fcb0967"
      },
      "execution_count": null,
      "outputs": [
        {
          "output_type": "execute_result",
          "data": {
            "text/plain": [
              "(tensor([10.,  2.,  3.,  4.,  5.,  6.,  7.,  8.,  9.]),\n",
              " tensor([[10.,  2.,  3.,  4.,  5.,  6.,  7.,  8.,  9.]]))"
            ]
          },
          "metadata": {},
          "execution_count": 53
        }
      ]
    },
    {
      "cell_type": "code",
      "source": [
        "3# Create a tensor with shape (2, 3, 4)\n",
        "tensor = torch.randn(2, 3, 4)\n",
        "\n",
        "# Reshape the tensor to have shape (6, 4)\n",
        "reshaped_tensor = tensor.view(6, 4)\n",
        "\n",
        "#tensor, reshaped_tensor\n",
        "tensor[:, 0]=10\n",
        "tensor, tensor[1,1]"
      ],
      "metadata": {
        "colab": {
          "base_uri": "https://localhost:8080/"
        },
        "id": "D46I8TfmLbC1",
        "outputId": "823c3c62-9e11-47f4-883b-f6bcd13255cc"
      },
      "execution_count": null,
      "outputs": [
        {
          "output_type": "execute_result",
          "data": {
            "text/plain": [
              "(tensor([[[10.0000, 10.0000, 10.0000, 10.0000],\n",
              "          [ 0.1258,  0.5353,  0.9599,  1.2445],\n",
              "          [-1.6477, -0.1731,  1.2372, -0.1968]],\n",
              " \n",
              "         [[10.0000, 10.0000, 10.0000, 10.0000],\n",
              "          [-0.1639,  0.4497, -0.1431, -0.2207],\n",
              "          [-0.4872, -1.2810,  0.0640,  0.3124]]]),\n",
              " tensor([-0.1639,  0.4497, -0.1431, -0.2207]))"
            ]
          },
          "metadata": {},
          "execution_count": 54
        }
      ]
    },
    {
      "cell_type": "markdown",
      "source": [
        "***Stacking a tensor***"
      ],
      "metadata": {
        "id": "h3e0gOXTNPNz"
      }
    },
    {
      "cell_type": "code",
      "source": [
        "x_stack1 = torch.stack([x, x, x, x], dim=0)\n",
        "x_stack2 = torch.stack([x, x, x, x], dim=1)\n",
        "x, x_stack1, x_stack2"
      ],
      "metadata": {
        "colab": {
          "base_uri": "https://localhost:8080/"
        },
        "id": "lZkBFT_b8E4r",
        "outputId": "af62b320-3f10-4e6e-fbcf-c94b950161a2"
      },
      "execution_count": null,
      "outputs": [
        {
          "output_type": "execute_result",
          "data": {
            "text/plain": [
              "(tensor([10.,  2.,  3.,  4.,  5.,  6.,  7.,  8.,  9.]),\n",
              " tensor([[10.,  2.,  3.,  4.,  5.,  6.,  7.,  8.,  9.],\n",
              "         [10.,  2.,  3.,  4.,  5.,  6.,  7.,  8.,  9.],\n",
              "         [10.,  2.,  3.,  4.,  5.,  6.,  7.,  8.,  9.],\n",
              "         [10.,  2.,  3.,  4.,  5.,  6.,  7.,  8.,  9.]]),\n",
              " tensor([[10., 10., 10., 10.],\n",
              "         [ 2.,  2.,  2.,  2.],\n",
              "         [ 3.,  3.,  3.,  3.],\n",
              "         [ 4.,  4.,  4.,  4.],\n",
              "         [ 5.,  5.,  5.,  5.],\n",
              "         [ 6.,  6.,  6.,  6.],\n",
              "         [ 7.,  7.,  7.,  7.],\n",
              "         [ 8.,  8.,  8.,  8.],\n",
              "         [ 9.,  9.,  9.,  9.]]))"
            ]
          },
          "metadata": {},
          "execution_count": 55
        }
      ]
    },
    {
      "cell_type": "code",
      "source": [
        "tensor1 = torch.tensor([[[1, 2],\n",
        "                         [3, 4]],\n",
        "\n",
        "                        [[5, 6],\n",
        "                         [7, 8]]])\n",
        "\n",
        "tensor2 = torch.tensor([[[9, 10],\n",
        "                         [11, 12]],\n",
        "\n",
        "                        [[13, 14],\n",
        "                         [15, 16]]])\n",
        "\n",
        "stacked_tensor1 = torch.stack([tensor1, tensor2], dim=0)\n",
        "stacked_tensor2 = torch.stack([tensor1, tensor2], dim=1)\n",
        "stacked_tensor3 = torch.stack([tensor1, tensor2], dim=3)"
      ],
      "metadata": {
        "id": "3ar5mgE89Orw"
      },
      "execution_count": null,
      "outputs": []
    },
    {
      "cell_type": "code",
      "source": [
        "tensor1, tensor2, stacked_tensor1, stacked_tensor2, stacked_tensor3"
      ],
      "metadata": {
        "colab": {
          "base_uri": "https://localhost:8080/"
        },
        "id": "1feeV5hUC7xi",
        "outputId": "737f675e-8634-48a6-b1bf-7eac53bf4543"
      },
      "execution_count": null,
      "outputs": [
        {
          "output_type": "execute_result",
          "data": {
            "text/plain": [
              "(tensor([[[1, 2],\n",
              "          [3, 4]],\n",
              " \n",
              "         [[5, 6],\n",
              "          [7, 8]]]),\n",
              " tensor([[[ 9, 10],\n",
              "          [11, 12]],\n",
              " \n",
              "         [[13, 14],\n",
              "          [15, 16]]]),\n",
              " tensor([[[[ 1,  2],\n",
              "           [ 3,  4]],\n",
              " \n",
              "          [[ 5,  6],\n",
              "           [ 7,  8]]],\n",
              " \n",
              " \n",
              "         [[[ 9, 10],\n",
              "           [11, 12]],\n",
              " \n",
              "          [[13, 14],\n",
              "           [15, 16]]]]),\n",
              " tensor([[[[ 1,  2],\n",
              "           [ 3,  4]],\n",
              " \n",
              "          [[ 9, 10],\n",
              "           [11, 12]]],\n",
              " \n",
              " \n",
              "         [[[ 5,  6],\n",
              "           [ 7,  8]],\n",
              " \n",
              "          [[13, 14],\n",
              "           [15, 16]]]]),\n",
              " tensor([[[[ 1,  9],\n",
              "           [ 2, 10]],\n",
              " \n",
              "          [[ 3, 11],\n",
              "           [ 4, 12]]],\n",
              " \n",
              " \n",
              "         [[[ 5, 13],\n",
              "           [ 6, 14]],\n",
              " \n",
              "          [[ 7, 15],\n",
              "           [ 8, 16]]]]))"
            ]
          },
          "metadata": {},
          "execution_count": 57
        }
      ]
    },
    {
      "cell_type": "markdown",
      "source": [
        "***Squeezing and Unsqueezing a tensor***"
      ],
      "metadata": {
        "id": "yBd395mMDD8h"
      }
    },
    {
      "cell_type": "markdown",
      "source": [
        "<img src=\"https://blog.kakaocdn.net/dn/1Qjao/btrcc4Yrj0L/P6DAjvSXpCVuIFj84OtHiK/img.png\" width=\"700\">"
      ],
      "metadata": {
        "id": "vzo-MfH22sWb"
      }
    },
    {
      "cell_type": "markdown",
      "source": [
        "<img src=\"https://i0.wp.com/theneuralblog.com/wp-content/uploads/2023/12/squeeze-tensors.png?resize=560%2C431&ssl=1\" width=\"700\">"
      ],
      "metadata": {
        "id": "gbTa47pr3ppU"
      }
    },
    {
      "cell_type": "code",
      "source": [
        "stacked_tensor3.shape"
      ],
      "metadata": {
        "colab": {
          "base_uri": "https://localhost:8080/"
        },
        "id": "M2XaqbqhVZke",
        "outputId": "3f360d29-a1b5-4b09-fbae-d7f8776ae778"
      },
      "execution_count": null,
      "outputs": [
        {
          "output_type": "execute_result",
          "data": {
            "text/plain": [
              "torch.Size([2, 2, 2, 2])"
            ]
          },
          "metadata": {},
          "execution_count": 58
        }
      ]
    },
    {
      "cell_type": "code",
      "source": [
        "x_reshaped, x_reshaped.squeeze()"
      ],
      "metadata": {
        "colab": {
          "base_uri": "https://localhost:8080/"
        },
        "id": "S9wcE3ReVvrQ",
        "outputId": "1ae2c022-a943-4786-feaa-ba57dbfe52d4"
      },
      "execution_count": null,
      "outputs": [
        {
          "output_type": "execute_result",
          "data": {
            "text/plain": [
              "(tensor([[10.,  2.,  3.,  4.,  5.,  6.,  7.,  8.,  9.]]),\n",
              " tensor([10.,  2.,  3.,  4.,  5.,  6.,  7.,  8.,  9.]))"
            ]
          },
          "metadata": {},
          "execution_count": 59
        }
      ]
    },
    {
      "cell_type": "code",
      "source": [
        "x_reshaped.shape, x_reshaped.squeeze().shape"
      ],
      "metadata": {
        "colab": {
          "base_uri": "https://localhost:8080/"
        },
        "id": "6k0UL7qPXHm1",
        "outputId": "101e5d73-4df6-4f05-faf4-a32480436589"
      },
      "execution_count": null,
      "outputs": [
        {
          "output_type": "execute_result",
          "data": {
            "text/plain": [
              "(torch.Size([1, 9]), torch.Size([9]))"
            ]
          },
          "metadata": {},
          "execution_count": 60
        }
      ]
    },
    {
      "cell_type": "code",
      "source": [
        "(x_reshaped.squeeze()).unsqueeze(dim=0)"
      ],
      "metadata": {
        "colab": {
          "base_uri": "https://localhost:8080/"
        },
        "id": "938dEvU8XZym",
        "outputId": "b86773b1-da74-454f-c2a8-5a69aabad92f"
      },
      "execution_count": null,
      "outputs": [
        {
          "output_type": "execute_result",
          "data": {
            "text/plain": [
              "tensor([[10.,  2.,  3.,  4.,  5.,  6.,  7.,  8.,  9.]])"
            ]
          },
          "metadata": {},
          "execution_count": 61
        }
      ]
    },
    {
      "cell_type": "markdown",
      "source": [
        "***Permuting tensors***"
      ],
      "metadata": {
        "id": "V_8FAxF4bGgG"
      }
    },
    {
      "cell_type": "code",
      "source": [
        "x = torch.randn(2, 3, 5)\n",
        "x_perm = torch.permute(x, (2, 0, 1)) # 2nd dim comes 1st, 0th dim 2nd, 1st dim 3rd\n",
        "x.shape, x_perm.shape"
      ],
      "metadata": {
        "colab": {
          "base_uri": "https://localhost:8080/"
        },
        "id": "ubKng5ALYKUw",
        "outputId": "26e43faa-1331-43e9-e84a-4905f9a7bd75"
      },
      "execution_count": null,
      "outputs": [
        {
          "output_type": "execute_result",
          "data": {
            "text/plain": [
              "(torch.Size([2, 3, 5]), torch.Size([5, 2, 3]))"
            ]
          },
          "metadata": {},
          "execution_count": 62
        }
      ]
    },
    {
      "cell_type": "code",
      "source": [
        "print(x)"
      ],
      "metadata": {
        "colab": {
          "base_uri": "https://localhost:8080/"
        },
        "id": "fERlq4SEccXH",
        "outputId": "b0946379-5eeb-407d-f2f9-0b41f0b49616"
      },
      "execution_count": null,
      "outputs": [
        {
          "output_type": "stream",
          "name": "stdout",
          "text": [
            "tensor([[[-1.9170, -0.0594, -0.5812, -0.4896, -0.3522],\n",
            "         [ 0.6730,  1.3976,  0.6304, -1.0862, -0.3625],\n",
            "         [ 0.2789, -1.2767,  0.0529, -0.9173, -1.7285]],\n",
            "\n",
            "        [[-1.1497,  1.5870,  0.1969,  0.2979, -0.7685],\n",
            "         [ 1.1044, -0.5354,  0.6982,  0.2495, -0.6020],\n",
            "         [-0.3762,  1.1975, -1.5831, -0.5279, -1.4658]]])\n"
          ]
        }
      ]
    },
    {
      "cell_type": "code",
      "source": [
        "x[0,0,0]"
      ],
      "metadata": {
        "colab": {
          "base_uri": "https://localhost:8080/"
        },
        "id": "HHcms3t4aDV6",
        "outputId": "6d913654-8ba6-4273-9baa-6071904eed0e"
      },
      "execution_count": null,
      "outputs": [
        {
          "output_type": "execute_result",
          "data": {
            "text/plain": [
              "tensor(-1.9170)"
            ]
          },
          "metadata": {},
          "execution_count": 64
        }
      ]
    },
    {
      "cell_type": "markdown",
      "source": [
        "***Indexing on tensors***"
      ],
      "metadata": {
        "id": "ycFBDkUzcYgh"
      }
    },
    {
      "cell_type": "code",
      "source": [
        "import torch\n",
        "x = torch.arange(1, 10).reshape(1, 3, 3)\n",
        "x, x.shape"
      ],
      "metadata": {
        "colab": {
          "base_uri": "https://localhost:8080/"
        },
        "id": "n5_R_zPMHmoi",
        "outputId": "12952b9d-5d0d-4977-ab15-d0a7a6ea5f4c"
      },
      "execution_count": null,
      "outputs": [
        {
          "output_type": "execute_result",
          "data": {
            "text/plain": [
              "(tensor([[[1, 2, 3],\n",
              "          [4, 5, 6],\n",
              "          [7, 8, 9]]]),\n",
              " torch.Size([1, 3, 3]))"
            ]
          },
          "metadata": {},
          "execution_count": 65
        }
      ]
    },
    {
      "cell_type": "code",
      "source": [
        "x[0][1][0]"
      ],
      "metadata": {
        "colab": {
          "base_uri": "https://localhost:8080/"
        },
        "id": "2ALWe-AtHy-h",
        "outputId": "3023dc7d-cf6e-4855-d4ba-e27952f486f3"
      },
      "execution_count": null,
      "outputs": [
        {
          "output_type": "execute_result",
          "data": {
            "text/plain": [
              "tensor(4)"
            ]
          },
          "metadata": {},
          "execution_count": 66
        }
      ]
    },
    {
      "cell_type": "code",
      "source": [
        "x[:, :, 1] # get all values of 0th  and 1st dim"
      ],
      "metadata": {
        "colab": {
          "base_uri": "https://localhost:8080/"
        },
        "id": "UHdT_ObiINfD",
        "outputId": "3ef9c822-21f1-4315-d5fa-9552b8a90690"
      },
      "execution_count": null,
      "outputs": [
        {
          "output_type": "execute_result",
          "data": {
            "text/plain": [
              "tensor([[2, 5, 8]])"
            ]
          },
          "metadata": {},
          "execution_count": 67
        }
      ]
    },
    {
      "cell_type": "code",
      "source": [
        "x[:, 1, 1] # same as x[0][1][0] but with a []"
      ],
      "metadata": {
        "id": "iTzXNC6yI1rC",
        "colab": {
          "base_uri": "https://localhost:8080/"
        },
        "outputId": "46ecbb97-0be2-4464-8d83-6c03642d9c99"
      },
      "execution_count": null,
      "outputs": [
        {
          "output_type": "execute_result",
          "data": {
            "text/plain": [
              "tensor([5])"
            ]
          },
          "metadata": {},
          "execution_count": 68
        }
      ]
    },
    {
      "cell_type": "code",
      "source": [
        "x[0, 0, :] # get index 0 of 0th and 1st dim and all values of 2nd dim"
      ],
      "metadata": {
        "colab": {
          "base_uri": "https://localhost:8080/"
        },
        "id": "mlLKVICjP6hT",
        "outputId": "6d2565de-ee4d-41cd-abc8-4d4fd8d38f39"
      },
      "execution_count": null,
      "outputs": [
        {
          "output_type": "execute_result",
          "data": {
            "text/plain": [
              "tensor([1, 2, 3])"
            ]
          },
          "metadata": {},
          "execution_count": 70
        }
      ]
    },
    {
      "cell_type": "code",
      "source": [
        "# index on x to return 3, 6, 9\n",
        "x[:, :, 2]"
      ],
      "metadata": {
        "colab": {
          "base_uri": "https://localhost:8080/"
        },
        "id": "AfDyzl2RRIcx",
        "outputId": "31a34079-661c-451e-8b23-69d9d6d97758"
      },
      "execution_count": null,
      "outputs": [
        {
          "output_type": "execute_result",
          "data": {
            "text/plain": [
              "tensor([[3, 6, 9]])"
            ]
          },
          "metadata": {},
          "execution_count": 71
        }
      ]
    },
    {
      "cell_type": "markdown",
      "source": [
        "***Pytorch tensors & numpy***"
      ],
      "metadata": {
        "id": "XJ7iECatXJW-"
      }
    },
    {
      "cell_type": "code",
      "source": [
        "# numpy array to tensor\n",
        "import numpy as np\n",
        "import torch\n",
        "\n",
        "arr = np.arange(1.0, 8.0)\n",
        "tensor = torch.from_numpy(arr).type(torch.float32)\n",
        "arr, tensor, arr.dtype, tensor.dtype\n",
        "# default dtype of tensor is float32 but numpy -> tensor is float64"
      ],
      "metadata": {
        "colab": {
          "base_uri": "https://localhost:8080/"
        },
        "id": "iXu_XS50PmRl",
        "outputId": "466f5d5c-09ff-40ef-a147-54526a482993"
      },
      "execution_count": null,
      "outputs": [
        {
          "output_type": "execute_result",
          "data": {
            "text/plain": [
              "(array([1., 2., 3., 4., 5., 6., 7.]),\n",
              " tensor([1., 2., 3., 4., 5., 6., 7.]),\n",
              " dtype('float64'),\n",
              " torch.float32)"
            ]
          },
          "metadata": {},
          "execution_count": 2
        }
      ]
    },
    {
      "cell_type": "code",
      "source": [
        "arr = arr + 1\n",
        "arr, tensor # changing array doesn't affect tensor"
      ],
      "metadata": {
        "colab": {
          "base_uri": "https://localhost:8080/"
        },
        "id": "GU_dRbkZZhNB",
        "outputId": "ec7483b3-c406-4c76-d743-52d8b67484fc"
      },
      "execution_count": null,
      "outputs": [
        {
          "output_type": "execute_result",
          "data": {
            "text/plain": [
              "(array([2., 3., 4., 5., 6., 7., 8.]), tensor([1., 2., 3., 4., 5., 6., 7.]))"
            ]
          },
          "metadata": {},
          "execution_count": 3
        }
      ]
    },
    {
      "cell_type": "code",
      "source": [
        "# tensor to numpy\n",
        "tensor1 = torch.ones(7)\n",
        "np_tensor = tensor1.numpy()\n",
        "tensor1.dtype, np_tensor.dtype"
      ],
      "metadata": {
        "id": "uLQ6B_GZmTBv",
        "colab": {
          "base_uri": "https://localhost:8080/"
        },
        "outputId": "3f9a14a2-4eba-480b-c25b-4f8763655273"
      },
      "execution_count": null,
      "outputs": [
        {
          "output_type": "execute_result",
          "data": {
            "text/plain": [
              "(torch.float32, dtype('float32'))"
            ]
          },
          "metadata": {},
          "execution_count": 4
        }
      ]
    },
    {
      "cell_type": "code",
      "source": [
        "tensor1 = tensor1 + 1\n",
        "tensor1, np_tensor"
      ],
      "metadata": {
        "colab": {
          "base_uri": "https://localhost:8080/"
        },
        "id": "BWED7q4lNf91",
        "outputId": "64dad8ea-866e-43a6-f283-1d776d4c666d"
      },
      "execution_count": null,
      "outputs": [
        {
          "output_type": "execute_result",
          "data": {
            "text/plain": [
              "(tensor([2., 2., 2., 2., 2., 2., 2.]),\n",
              " array([1., 1., 1., 1., 1., 1., 1.], dtype=float32))"
            ]
          },
          "metadata": {},
          "execution_count": 5
        }
      ]
    },
    {
      "cell_type": "markdown",
      "source": [
        "***Reproducibility***"
      ],
      "metadata": {
        "id": "5lRatabqRFwi"
      }
    },
    {
      "cell_type": "code",
      "source": [
        "random_seed = 42\n",
        "\n",
        "torch.manual_seed(random_seed)\n",
        "rand_c = torch.rand(3, 4)\n",
        "\n",
        "torch.manual_seed(random_seed)\n",
        "rand_d  = torch.rand(3, 4)\n",
        "\n",
        "print(rand_c)\n",
        "print(rand_d)\n",
        "print(rand_c == rand_d)"
      ],
      "metadata": {
        "colab": {
          "base_uri": "https://localhost:8080/"
        },
        "id": "Cza_j7McRSFc",
        "outputId": "7aaad33b-a044-4b0f-cce2-ddcc553b48e6"
      },
      "execution_count": null,
      "outputs": [
        {
          "output_type": "stream",
          "name": "stdout",
          "text": [
            "tensor([[0.8823, 0.9150, 0.3829, 0.9593],\n",
            "        [0.3904, 0.6009, 0.2566, 0.7936],\n",
            "        [0.9408, 0.1332, 0.9346, 0.5936]])\n",
            "tensor([[0.8823, 0.9150, 0.3829, 0.9593],\n",
            "        [0.3904, 0.6009, 0.2566, 0.7936],\n",
            "        [0.9408, 0.1332, 0.9346, 0.5936]])\n",
            "tensor([[True, True, True, True],\n",
            "        [True, True, True, True],\n",
            "        [True, True, True, True]])\n"
          ]
        }
      ]
    },
    {
      "cell_type": "markdown",
      "source": [
        "***Running tensors & pytorch objects on GPU***"
      ],
      "metadata": {
        "id": "inQdYbjhTxWT"
      }
    },
    {
      "cell_type": "code",
      "source": [
        "!nvidia-smi"
      ],
      "metadata": {
        "id": "i3sO2mlsY04N"
      },
      "execution_count": null,
      "outputs": []
    },
    {
      "cell_type": "code",
      "source": [
        "import torch\n",
        "torch.cuda.is_available()"
      ],
      "metadata": {
        "colab": {
          "base_uri": "https://localhost:8080/"
        },
        "id": "3zNtkeyOLNLH",
        "outputId": "7b05847b-48a0-4325-b3da-2a18d86beb1d"
      },
      "execution_count": null,
      "outputs": [
        {
          "output_type": "execute_result",
          "data": {
            "text/plain": [
              "True"
            ]
          },
          "metadata": {},
          "execution_count": 1
        }
      ]
    },
    {
      "cell_type": "code",
      "source": [
        "# device agnostic code\n",
        "device = \"cuda\" if torch.cuda.is_available() else \"cpu\"\n",
        "device"
      ],
      "metadata": {
        "colab": {
          "base_uri": "https://localhost:8080/",
          "height": 35
        },
        "id": "fXInFIaeLa2o",
        "outputId": "6b1ab30c-df64-4b90-defe-8038766a6d9c"
      },
      "execution_count": null,
      "outputs": [
        {
          "output_type": "execute_result",
          "data": {
            "text/plain": [
              "'cuda'"
            ],
            "application/vnd.google.colaboratory.intrinsic+json": {
              "type": "string"
            }
          },
          "metadata": {},
          "execution_count": 2
        }
      ]
    },
    {
      "cell_type": "code",
      "source": [
        "torch.cuda.device_count()"
      ],
      "metadata": {
        "colab": {
          "base_uri": "https://localhost:8080/"
        },
        "id": "8JTjArTcLnYQ",
        "outputId": "f347ff59-bc4c-4428-b937-78e23d1c641b"
      },
      "execution_count": null,
      "outputs": [
        {
          "output_type": "execute_result",
          "data": {
            "text/plain": [
              "1"
            ]
          },
          "metadata": {},
          "execution_count": 3
        }
      ]
    },
    {
      "cell_type": "code",
      "source": [
        "tensor = torch.tensor([1, 2, 3])\n",
        "tensor.device"
      ],
      "metadata": {
        "colab": {
          "base_uri": "https://localhost:8080/"
        },
        "id": "cZ34UBvgLtY5",
        "outputId": "a2caa282-8b84-45eb-a798-9e02c63aa614"
      },
      "execution_count": null,
      "outputs": [
        {
          "output_type": "execute_result",
          "data": {
            "text/plain": [
              "device(type='cpu')"
            ]
          },
          "metadata": {},
          "execution_count": 4
        }
      ]
    },
    {
      "cell_type": "code",
      "source": [
        "tensor_on_gpu = tensor.to(device)\n",
        "tensor_on_gpu.device"
      ],
      "metadata": {
        "colab": {
          "base_uri": "https://localhost:8080/"
        },
        "id": "p83g6dgOMgvt",
        "outputId": "e034a7f1-8fe5-49d7-a0e0-d02e3170dbb7"
      },
      "execution_count": null,
      "outputs": [
        {
          "output_type": "execute_result",
          "data": {
            "text/plain": [
              "device(type='cuda', index=0)"
            ]
          },
          "metadata": {},
          "execution_count": 5
        }
      ]
    },
    {
      "cell_type": "code",
      "source": [
        "tensor_back_on_cpu = tensor_on_gpu.cpu().numpy()\n",
        "tensor_back_on_cpu"
      ],
      "metadata": {
        "colab": {
          "base_uri": "https://localhost:8080/"
        },
        "id": "pZ-Ssjz3Mqgz",
        "outputId": "738cde2c-5cfa-4d4c-d69c-59166fd6082a"
      },
      "execution_count": null,
      "outputs": [
        {
          "output_type": "execute_result",
          "data": {
            "text/plain": [
              "array([1, 2, 3])"
            ]
          },
          "metadata": {},
          "execution_count": 7
        }
      ]
    },
    {
      "cell_type": "code",
      "source": [
        "tensor_on_gpu"
      ],
      "metadata": {
        "colab": {
          "base_uri": "https://localhost:8080/"
        },
        "id": "EDN4EYoO8uzN",
        "outputId": "701b467f-844f-4c44-a2ef-d6e98d30d751"
      },
      "execution_count": null,
      "outputs": [
        {
          "output_type": "execute_result",
          "data": {
            "text/plain": [
              "tensor([1, 2, 3], device='cuda:0')"
            ]
          },
          "metadata": {},
          "execution_count": 8
        }
      ]
    }
  ]
}